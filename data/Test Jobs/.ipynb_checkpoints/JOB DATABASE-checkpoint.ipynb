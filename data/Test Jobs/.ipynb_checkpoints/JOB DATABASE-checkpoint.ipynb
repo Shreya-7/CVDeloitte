{
 "cells": [
  {
   "cell_type": "code",
   "execution_count": 1,
   "metadata": {},
   "outputs": [],
   "source": [
    "import requests\n",
    "from bs4 import BeautifulSoup as bs\n",
    "import pandas as pd\n",
    "import os\n",
    "import sys"
   ]
  },
  {
   "cell_type": "code",
   "execution_count": 2,
   "metadata": {},
   "outputs": [],
   "source": [
    "url = \"https://www.indeed.co.in/software-developer-jobs-in-India\""
   ]
  },
  {
   "cell_type": "code",
   "execution_count": 3,
   "metadata": {},
   "outputs": [],
   "source": [
    "r = requests.get(url)\n",
    "p = bs(r.text)"
   ]
  },
  {
   "cell_type": "code",
   "execution_count": 4,
   "metadata": {},
   "outputs": [],
   "source": [
    "def totextfile(filename, title, skills, des):\n",
    "    exists = os.path.isfile(\"./\" + filename + \".txt\")\n",
    "    if exists:\n",
    "        print(\"Job present in directory.\")\n",
    "        return      \n",
    "    else:\n",
    "        file = filename + '.txt'\n",
    "        file1 = open(file,'wb')\n",
    "        file1.write(title.encode('utf8'))\n",
    "        file1.write(\"\\n\".encode('utf8'))\n",
    "        for i in skills:\n",
    "            file1.write(i.encode('utf8'))\n",
    "            file1.write(\"\\n\".encode('utf8'))\n",
    "        for i in des:\n",
    "            file1.write(i.encode('utf8'))\n",
    "            file1.write(\"\\n\".encode('utf8'))\n",
    "        file1.close()\n",
    "        print(filename, \" Done\")\n"
   ]
  },
  {
   "cell_type": "code",
   "execution_count": 5,
   "metadata": {},
   "outputs": [],
   "source": [
    "def jobtextadd(pag, count, titles):\n",
    "    for i in pag:\n",
    "        c = 'https://www.indeed.co.in'+i['href']\n",
    "        r2 = requests.get(c)\n",
    "        p1 = bs(r2.text)\n",
    "        page = p1.find_all('a', {'class':'jobtitle'})\n",
    "        for i in page:\n",
    "            c = 'https://www.indeed.co.in' + i['href']\n",
    "            r1 = requests.get(c)\n",
    "            r1.url\n",
    "            page1 = bs(r1.text)\n",
    "            tit = page1.find('div', {'class' : 'jobsearch-JobInfoHeader-title-container'})\n",
    "            name = page1.find('div', {'class' : 'jobsearch-CompanyInfoWithoutHeaderImage'})\n",
    "            title = tit.text\n",
    "            filename = title + ' ' + name.text\n",
    "            filename = filename.replace('/','').replace('|','')\n",
    "            if filename in titles:\n",
    "                print(\"Job already present.\\n\")\n",
    "                continue\n",
    "            else:\n",
    "                skill = page1.find_all('span',{'class' : 'jobsearch-JobMetadataHeader-skillItem'})\n",
    "                description = page1.find_all('div', {'class' : 'jobsearch-jobDescriptionText'})\n",
    "                skills = []\n",
    "                des = []\n",
    "                for j in skill:\n",
    "                    skills.append(j.text)\n",
    "                for k in description:\n",
    "                    des.append(k.text)\n",
    "                totextfile(filename,title,skills,des)\n",
    "                count += 1\n",
    "                #print(count)\n",
    "        pages = p1.find_all('div',{'class':'pagination'})\n",
    "        pag1 = pages[0].find_all('a')\n",
    "        for p in pag1:\n",
    "            if p in pag:\n",
    "                continue\n",
    "            else:\n",
    "                pag.append(p)\n",
    "        if count == 4:\n",
    "            print(\"Stopping!\")\n",
    "            sys.exit(\"It ends\")\n",
    "        print (i,\" done\")\n",
    "        "
   ]
  },
  {
   "cell_type": "code",
   "execution_count": null,
   "metadata": {
    "scrolled": false
   },
   "outputs": [
    {
     "name": "stdout",
     "output_type": "stream",
     "text": [
      "React Native Developer Vision Vivante LLP  Done\n",
      "AWS DEVELOPER bixware technologies  Done\n",
      "Change Management IBM29,769 reviews  Done\n",
      "Software Developer Infoicon Technologies7 reviews  Done\n",
      "Software Engineer (Developer) RCKR Software Pvt Ltd  Done\n",
      "Problem Management - SME IBM29,769 reviews  Done\n",
      "Software Engineer (Software Developer) AINE AI Info Tech Pvt Ltd  Done\n",
      "Software Engineer Intern OlympiadGuide.com  Done\n",
      "Software Developer ThinkQuotient Software Private Limited  Done\n",
      "Embedded Software Developer MABZONE IT SOLUTIONS  Done\n",
      "Developer Enablement NetFoundry  Done\n",
      "SOFTWARE ENGINEER ON Semiconductor573 reviews  Done\n",
      "Android Developer - Job Vacancy Sants  Done\n",
      "ReactJS Developer Innostax Software Labs Pvt Ltd.  Done\n",
      "Software Developer- Mumbai Miles Technologies  Done\n",
      "Software Engineer, Java Developer - EnterWorks Winshuttle13 reviews  Done\n",
      "Senior Odoo Developer eJam  Done\n",
      "<a class=\"jobtitle turnstileLink\" data-tn-element=\"jobTitle\" href=\"/pagead/clk?mo=r&amp;ad=-6NYlbfkN0Cz66uW9No5H21e36Tvfr0wqoLPmtTyAICw4V26tndoF6mKkntaSSBsc0C0ZfgGoJKouqd7_77dLL807m8lC6DPL9UIDZ95ZKggv0SMBjauBrRNgSOkwlB7_hazyTRKu9XKy2z0no-tWeDfPuWHOHiPevf2J_D3Bw53olOSlkOMoPg8mcvTrFk959n1aNYrZyBZbhhMJXOOgSDM0OV_zrn6Do-IV2O7CxImPzs5-SIbO5MPyIXOsp7sN-L_61bAzx0c2T1vAW-34FcbeLtbNQGJOCj3JVGtKvg-Wr1rjoa6Bnh8x2lds27nffGt3NE2h9Fy-awKuGne5i3KgBmTodA5aL7_oCrjrPyzJmHGEZ_eJBmEBGT-mDMm6fcq9SinQT7uN37B4Q4ckwX8PRbLA3jHkssDuh94XAKk5odthxmlWde3HJalyFRgUc5AwTQNhXTla9NMKfSMFINijTUjAyznEv6JcrtDV4_ODNqqnoBFjg==&amp;p=16&amp;fvj=1&amp;vjs=3\" id=\"sja16\" onclick=\"setRefineByCookie([]); sjoc('sja16', 1); convCtr('SJ'); rclk(this,jobmap[16],true,1);\" onmousedown=\"sjomd('sja16'); clk('sja16'); rclk(this,jobmap[16],1);\" rel=\"noopener nofollow\" target=\"_blank\" title=\"Senior Odoo Developer\">\n",
      "Senior Odoo <b>Developer</b></a>  done\n",
      "Job present in directory.\n",
      "MTS 1, Software Engineer PayPal1,336 reviews  Done\n",
      "Software Engineer 3 PayPal1,336 reviews  Done\n",
      "Service Management IBM29,769 reviews  Done\n",
      "Software Developer Spring Infoserv  Done\n",
      "Project Management IBM29,769 reviews  Done\n",
      "Testing Engineer (Kolkata) Sabse Sasta Dukaan  Done\n",
      "Full Stack Developer ILM INNOVATES SOLUTIONS PVT LTD  Done\n",
      "Software Developer - Fresher WeSucceed Solutions  Done\n",
      "Software Test Engineer PROBUZ TECHNOLOGIES  Done\n",
      "Trainee Software Developer D4t4 Solutions  Done\n",
      "Software Developer (C#, Dot Net Core) Siemens AG10,128 reviews  Done\n",
      "Pentaho developer Shvintech Inc  Done\n",
      "Job present in directory.\n",
      "Job present in directory.\n",
      "Job present in directory.\n",
      "Job present in directory.\n",
      "Job present in directory.\n",
      "<a class=\"jobtitle turnstileLink\" data-tn-element=\"jobTitle\" href=\"/pagead/clk?mo=r&amp;ad=-6NYlbfkN0Cz66uW9No5H21e36Tvfr0wqoLPmtTyAICw4V26tndoF6mKkntaSSBsc0C0ZfgGoJKouqd7_77dLL807m8lC6DPL9UIDZ95ZKggv0SMBjauBrRNgSOkwlB7_hazyTRKu9XKy2z0no-tWeDfPuWHOHiPevf2J_D3Bw53olOSlkOMoPg8mcvTrFk9lorYgBRhUnqH74xIkyh3Mh5MbKv0sLX9rpYxB_nJGglSCloFrpUhLLMpC_pblA1E8Uf9nbsO70Se6kNmp5m6BJwHj7dTYCQIYwYMXhGl9iQVar3EnA86FqSjtNsuzlxoAgw3PDcdR57DGE4zBc7LzZBjJa-EF3KzoAenDXsikoOm85Y9-6XaW9GwWsZPEejmI7I42c8V_3GzXKzujhqqf3Djr7umFz6eZ12i3o2PQips0hmd1RGJed3PANIcr2o3wDm7cAGkzFiK-HdVrvSd5WAvGxUpZnQSSVlttdcz9Qmr6FUIJiTzZQ==&amp;p=17&amp;fvj=1&amp;vjs=3\" id=\"sja17\" onclick=\"setRefineByCookie([]); sjoc('sja17', 1); convCtr('SJ'); rclk(this,jobmap[17],true,1);\" onmousedown=\"sjomd('sja17'); clk('sja17'); rclk(this,jobmap[17],1);\" rel=\"noopener nofollow\" target=\"_blank\" title=\"Senior Odoo Developer\">\n",
      "Senior Odoo <b>Developer</b></a>  done\n",
      "Job present in directory.\n",
      "Software Engineer 3-3 PayPal1,336 reviews  Done\n",
      "Job present in directory.\n",
      "Fresher Software Developer Arisen  Done\n",
      "Junior Software Developer for IT department Saraswationline  Done\n",
      "RPA Developer (UiPath) Tao automation  Done\n",
      "Software Developer (IN-YC-FS) Yara  Done\n",
      "Developer Trainee Inexoft Technologies  Done\n",
      "Software Developer Eminent India Pvt Ltd  Done\n",
      "Software Developer Leadscooper  Done\n",
      "Report Developer Kaplan India5 reviews  Done\n",
      "Embedded Trainee Engineer,Software Testing Trainee Zero Sum Wireless Solutions India Private Limited  Done\n",
      "Software Developer Cetacean Business Solutions  Done\n",
      "Job present in directory.\n",
      "Job present in directory.\n"
     ]
    }
   ],
   "source": [
    "pages = p.find_all('div',{'class':'pagination'})\n",
    "pag = set(pages[0].find_all('a'))\n",
    "pag = list(pag)\n",
    "count = 0\n",
    "titles = []\n",
    "jobtextadd(pag,count,titles)"
   ]
  },
  {
   "cell_type": "code",
   "execution_count": null,
   "metadata": {},
   "outputs": [],
   "source": []
  },
  {
   "cell_type": "code",
   "execution_count": null,
   "metadata": {},
   "outputs": [],
   "source": []
  }
 ],
 "metadata": {
  "kernelspec": {
   "display_name": "Python 3",
   "language": "python",
   "name": "python3"
  },
  "language_info": {
   "codemirror_mode": {
    "name": "ipython",
    "version": 3
   },
   "file_extension": ".py",
   "mimetype": "text/x-python",
   "name": "python",
   "nbconvert_exporter": "python",
   "pygments_lexer": "ipython3",
   "version": "3.8.2"
  }
 },
 "nbformat": 4,
 "nbformat_minor": 4
}
